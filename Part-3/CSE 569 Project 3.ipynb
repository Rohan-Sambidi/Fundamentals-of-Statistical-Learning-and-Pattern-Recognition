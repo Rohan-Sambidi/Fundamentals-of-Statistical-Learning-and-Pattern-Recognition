{
 "cells": [
  {
   "cell_type": "markdown",
   "metadata": {},
   "source": [
    "Author: Rohan Sambidi  \n",
    "Course: CSE 569- Fundamentals-of-Statistical-Learning-and-Pattern-Recognition  \n",
    "Project: Deep Learning with CNN  \n",
    "Semester: Fall 2022"
   ]
  },
  {
   "cell_type": "code",
   "execution_count": 2,
   "metadata": {
    "id": "89Ik2B5EVZg7"
   },
   "outputs": [],
   "source": [
    "from tensorflow import keras\n",
    "from keras.datasets import cifar10\n",
    "from keras.models import Sequential\n",
    "from keras.layers import Dense, Conv2D, MaxPooling2D, AveragePooling2D, Flatten, Dropout, BatchNormalization, Activation\n",
    "from keras import backend as K\n",
    "from tensorflow.keras.utils import to_categorical"
   ]
  },
  {
   "cell_type": "code",
   "execution_count": 9,
   "metadata": {
    "id": "YBCh9QEFYgAX"
   },
   "outputs": [],
   "source": [
    "batch_size = 64\n",
    "#Task 3f: Change batch size – i) 16 ii) 256\n",
    "#batch_size = 16\n",
    "#batch_size = 256\n",
    "\n",
    "num_classes = 10\n",
    "\n",
    "epochs = 50"
   ]
  },
  {
   "cell_type": "code",
   "execution_count": null,
   "metadata": {
    "id": "YO4KJEvLYh2_"
   },
   "outputs": [],
   "source": [
    "#  input image dimensions\n",
    "img_rows, img_cols = 32, 32\n",
    "# the data, split between train and test sets\n",
    "(x_train, y_train), (x_test, y_test) = cifar10.load_data()\n",
    "if K.image_data_format() == 'channels_first':\n",
    "  x_train = x_train.reshape(x_train.shape[0], 3, img_rows, img_cols)\n",
    "  x_test = x_test.reshape(x_test.shape[0], 3, img_rows, img_cols)\n",
    "  input_shape = (3, img_rows, img_cols)\n",
    "else:\n",
    "  x_train = x_train.reshape(x_train.shape[0], img_rows, img_cols, 3)\n",
    "  x_test = x_test.reshape(x_test.shape[0], img_rows, img_cols, 3)\n",
    "  input_shape = (img_rows, img_cols, 3)"
   ]
  },
  {
   "cell_type": "code",
   "execution_count": null,
   "metadata": {
    "id": "R1jDpoi9YkJo"
   },
   "outputs": [],
   "source": [
    "x_train = x_train.astype('float32')\n",
    "x_test = x_test.astype('float32')\n",
    "x_train /= 255\n",
    "x_test /= 255\n",
    "print('x_train shape:', x_train.shape)\n",
    "print(x_train.shape[0], 'training samples')\n",
    "print(x_test.shape[0], 'testing samples')\n",
    "\n",
    "# convert class vectors to binary class matrices\n",
    "y_train = to_categorical(y_train, num_classes)\n",
    "y_test = to_categorical(y_test, num_classes)"
   ]
  },
  {
   "cell_type": "code",
   "execution_count": 12,
   "metadata": {
    "id": "77w5wroTYstR"
   },
   "outputs": [],
   "source": [
    "model = Sequential()\n",
    "model.add(Conv2D(filters = 32, kernel_size = (3,3), padding='same', input_shape = input_shape))\n",
    "#Task 3b: Change kernel size for first convolutional layer to 7x7\n",
    "#model.add(Conv2D(filters = 32, kernel_size = (7,7), padding='same', input_shape = input_shape))\n",
    "\n",
    "model.add(Activation('relu'))\n",
    "#Task 3d: Remove all the batch normalization layers in the network\n",
    "model.add(BatchNormalization())\n",
    "model.add(Conv2D(filters = 32, kernel_size = (3,3), padding='same'))\n",
    "model.add(Activation('relu'))\n",
    "#Task 3d: Remove all the batch normalization layers in the network\n",
    "model.add(BatchNormalization())\n",
    "model.add(MaxPooling2D(2,2))\n",
    "model.add(Dropout(0.2))\n",
    "#Task 3e: Change all dropout values (units to drop) - i) 0.7\n",
    "#model.add(Dropout(0.7))\n",
    "\n",
    "model.add(Conv2D(filters = 64, kernel_size = (3,3), padding='same'))\n",
    "model.add(Activation('relu'))\n",
    "#Task 3d: Remove all the batch normalization layers in the network\n",
    "model.add(BatchNormalization())\n",
    "model.add(Conv2D(filters = 64, kernel_size = (3,3), padding='same'))\n",
    "model.add(Activation('relu'))\n",
    "#Task 3d: Remove all the batch normalization layers in the network\n",
    "model.add(BatchNormalization())\n",
    "model.add(MaxPooling2D(2,2))\n",
    "model.add(Dropout(0.3))\n",
    "#Task 3e: Change all dropout values (units to drop) - i) 0.7\n",
    "#model.add(Dropout(0.7))\n",
    "\n",
    "model.add(Conv2D(filters = 128, kernel_size = (3,3), padding='same'))\n",
    "model.add(Activation('relu'))\n",
    "#Task 3d: Remove all the batch normalization layers in the network\n",
    "model.add(BatchNormalization())\n",
    "model.add(Conv2D(filters = 128, kernel_size = (3,3), padding='same'))\n",
    "model.add(Activation('relu'))\n",
    "#Task 3d: Remove all the batch normalization layers in the network\n",
    "model.add(BatchNormalization())\n",
    "model.add(MaxPooling2D(2,2))\n",
    "model.add(Dropout(0.4))\n",
    "#Task 3e: Change all dropout values (units to drop) - i) 0.7\n",
    "#model.add(Dropout(0.7))\n",
    "\n",
    "model.add(Flatten())\n",
    "\n",
    "model.add(Dense(units = 10, activation = 'softmax'))"
   ]
  },
  {
   "cell_type": "code",
   "execution_count": 13,
   "metadata": {
    "id": "G7ofK6U_Yx4C"
   },
   "outputs": [],
   "source": [
    "# https://keras.io/optimizers/\n",
    "model.compile(loss=keras.losses.categorical_crossentropy, optimizer=keras.optimizers.Adam(lr=0.0001), metrics=['accuracy'])\n",
    "\n",
    "# Task 3a: Change learning rate to – i) 0.05 ii) 0.0001\n",
    "#model.compile(loss=keras.losses.categorical_crossentropy, optimizer=keras.optimizers.Adam(lr=0.05), metrics=['accuracy'])\n",
    "#model.compile(loss=keras.losses.categorical_crossentropy, optimizer=keras.optimizers.Adam(lr=0.0001), metrics=['accuracy'])\n",
    "\n",
    "# Task 3c: Change optimizer to RMSProp\n",
    "#model.compile(loss=keras.losses.categorical_crossentropy, optimizer=keras.optimizers.RMSprop(lr=0.01), metrics=['accuracy'])"
   ]
  },
  {
   "cell_type": "code",
   "execution_count": null,
   "metadata": {
    "id": "J0TDST6qYzvH"
   },
   "outputs": [],
   "source": [
    "model.fit(x_train, y_train, batch_size=batch_size, epochs=epochs, verbose=1, validation_data=(x_test, y_test))\n",
    "score = model.evaluate(x_test, y_test, verbose=0)\n",
    "print('Test loss:', score[0])\n",
    "print('Test accuracy:', score[1])"
   ]
  },
  {
   "cell_type": "code",
   "execution_count": null,
   "metadata": {
    "id": "wlM0KMpDvnpr"
   },
   "outputs": [],
   "source": []
  }
 ],
 "metadata": {
  "accelerator": "GPU",
  "colab": {
   "provenance": []
  },
  "gpuClass": "standard",
  "kernelspec": {
   "display_name": "Python 3",
   "language": "python",
   "name": "python3"
  },
  "language_info": {
   "codemirror_mode": {
    "name": "ipython",
    "version": 3
   },
   "file_extension": ".py",
   "mimetype": "text/x-python",
   "name": "python",
   "nbconvert_exporter": "python",
   "pygments_lexer": "ipython3",
   "version": "3.8.1"
  }
 },
 "nbformat": 4,
 "nbformat_minor": 4
}
