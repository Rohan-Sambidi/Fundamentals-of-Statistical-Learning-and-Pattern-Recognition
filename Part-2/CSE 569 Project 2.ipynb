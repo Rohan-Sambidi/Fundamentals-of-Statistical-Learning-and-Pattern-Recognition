{
 "cells": [
  {
   "cell_type": "markdown",
   "metadata": {},
   "source": [
    "Author: Rohan Sambidi  \n",
    "Course: CSE 569- Fundamentals-of-Statistical-Learning-and-Pattern-Recognition  \n",
    "Project: Experimenting with SVM  \n",
    "Semester: Fall 2022"
   ]
  },
  {
   "cell_type": "code",
   "execution_count": 1,
   "metadata": {},
   "outputs": [],
   "source": [
    "from IPython.core.interactiveshell import InteractiveShell\n",
    "#from IPython.display import clear_output\n",
    "InteractiveShell.ast_node_interactivity = \"all\""
   ]
  },
  {
   "cell_type": "code",
   "execution_count": 2,
   "metadata": {},
   "outputs": [],
   "source": [
    "import numpy as np\n",
    "np.set_printoptions(linewidth=200)\n",
    "\n",
    "from libsvm.svmutil import *\n",
    "from scipy.io import loadmat"
   ]
  },
  {
   "cell_type": "code",
   "execution_count": 3,
   "metadata": {},
   "outputs": [],
   "source": [
    "# Load the train and test data\n",
    "train_data = loadmat('/Users/rohansambidi/Downloads/part_2_train_data.mat')\n",
    "test_data = loadmat('/Users/rohansambidi/Downloads/part_2_test_data.mat')"
   ]
  },
  {
   "cell_type": "code",
   "execution_count": 132,
   "metadata": {},
   "outputs": [
    {
     "data": {
      "text/plain": [
       "{'__header__': b'MATLAB 5.0 MAT-file, Platform: PCWIN64, Created on: Thu Oct 27 17:08:42 2022',\n",
       " '__version__': '1.0',\n",
       " '__globals__': [],\n",
       " 'X1': array([[0.00238095, 0.00059524, 0.00059524, ..., 0.00029762, 0.0014881 , 0.        ],\n",
       "        [0.0014881 , 0.00089286, 0.00029762, ..., 0.        , 0.0014881 , 0.00029762],\n",
       "        [0.0014881 , 0.00089286, 0.00089286, ..., 0.00029762, 0.00089286, 0.00089286],\n",
       "        ...,\n",
       "        [0.        , 0.        , 0.        , ..., 0.00089286, 0.00089286, 0.00595238],\n",
       "        [0.        , 0.        , 0.        , ..., 0.00059524, 0.00119048, 0.00446429],\n",
       "        [0.        , 0.        , 0.        , ..., 0.00029762, 0.00178571, 0.00327381]]),\n",
       " 'X2': array([[0.        , 0.        , 0.        , ..., 0.        , 0.        , 0.        ],\n",
       "        [0.        , 0.        , 0.        , ..., 0.        , 0.        , 0.        ],\n",
       "        [0.        , 0.        , 0.        , ..., 0.        , 0.        , 0.        ],\n",
       "        ...,\n",
       "        [0.        , 0.00068198, 0.00204594, ..., 0.        , 0.        , 0.        ],\n",
       "        [0.00066294, 0.        , 0.00066294, ..., 0.        , 0.        , 0.        ],\n",
       "        [0.00303903, 0.00121561, 0.00364683, ..., 0.        , 0.00121561, 0.00121561]]),\n",
       " 'X3': array([[0.        , 0.00219653, 0.        , ..., 0.        , 0.00109827, 0.00109827],\n",
       "        [0.00220674, 0.        , 0.        , ..., 0.00110337, 0.        , 0.        ],\n",
       "        [0.00257104, 0.        , 0.        , ..., 0.        , 0.        , 0.00385656],\n",
       "        ...,\n",
       "        [0.00068198, 0.        , 0.        , ..., 0.00818378, 0.00340991, 0.        ],\n",
       "        [0.00066294, 0.        , 0.00198883, ..., 0.        , 0.00331472, 0.        ],\n",
       "        [0.00060781, 0.00060781, 0.00182342, ..., 0.00182342, 0.        , 0.        ]]),\n",
       " 'Y': array([[ 1],\n",
       "        [ 1],\n",
       "        [ 1],\n",
       "        ...,\n",
       "        [50],\n",
       "        [50],\n",
       "        [50]], dtype=uint8)}"
      ]
     },
     "execution_count": 132,
     "metadata": {},
     "output_type": "execute_result"
    },
    {
     "data": {
      "text/plain": [
       "{'__header__': b'MATLAB 5.0 MAT-file, Platform: PCWIN64, Created on: Thu Oct 27 17:11:47 2022',\n",
       " '__version__': '1.0',\n",
       " '__globals__': [],\n",
       " 'X1': array([[0.        , 0.00661654, 0.00300752, ..., 0.        , 0.01142857, 0.        ],\n",
       "        [0.        , 0.00511278, 0.00330827, ..., 0.        , 0.0075188 , 0.        ],\n",
       "        [0.00150376, 0.        , 0.00360902, ..., 0.        , 0.00150376, 0.        ],\n",
       "        ...,\n",
       "        [0.        , 0.00030075, 0.        , ..., 0.0006015 , 0.00030075, 0.00030075],\n",
       "        [0.        , 0.        , 0.        , ..., 0.        , 0.00451128, 0.00481203],\n",
       "        [0.        , 0.00030075, 0.        , ..., 0.        , 0.00571429, 0.00451128]]),\n",
       " 'X2': array([[0.        , 0.        , 0.        , ..., 0.        , 0.        , 0.        ],\n",
       "        [0.        , 0.        , 0.        , ..., 0.        , 0.        , 0.        ],\n",
       "        [0.        , 0.        , 0.        , ..., 0.        , 0.        , 0.        ],\n",
       "        ...,\n",
       "        [0.00316136, 0.        , 0.00105379, ..., 0.        , 0.        , 0.        ],\n",
       "        [0.00180225, 0.        , 0.        , ..., 0.        , 0.        , 0.00060075],\n",
       "        [0.00049005, 0.        , 0.00049005, ..., 0.        , 0.        , 0.00147014]]),\n",
       " 'X3': array([[0.00148377, 0.00098918, 0.00098918, ..., 0.00049459, 0.        , 0.00148377],\n",
       "        [0.0005915 , 0.        , 0.        , ..., 0.00118299, 0.        , 0.0005915 ],\n",
       "        [0.04571429, 0.        , 0.        , ..., 0.        , 0.        , 0.        ],\n",
       "        ...,\n",
       "        [0.00316136, 0.        , 0.        , ..., 0.00421515, 0.00210757, 0.        ],\n",
       "        [0.00180225, 0.        , 0.00180225, ..., 0.        , 0.002403  , 0.        ],\n",
       "        [0.00147014, 0.        , 0.00147014, ..., 0.00049005, 0.00098009, 0.00098009]]),\n",
       " 'Y': array([[ 1],\n",
       "        [ 1],\n",
       "        [ 1],\n",
       "        ...,\n",
       "        [50],\n",
       "        [50],\n",
       "        [50]], dtype=uint8)}"
      ]
     },
     "execution_count": 132,
     "metadata": {},
     "output_type": "execute_result"
    }
   ],
   "source": [
    "train_data\n",
    "test_data"
   ]
  },
  {
   "cell_type": "code",
   "execution_count": 69,
   "metadata": {},
   "outputs": [],
   "source": [
    "# Convert the data into LIBVSM format\n",
    "\n",
    "# Repeat this code by replacing train_data with test_data, \n",
    "# and the 'name' variable by three vales: {X1, X2, X3}.\n",
    "# Change the file name appropriately.\n",
    "\n",
    "\n",
    "name = \"X3\"\n",
    "file = open(f\"test_{name}.txt\", \"w\")\n",
    "\n",
    "for i in range(test_data['Y'].shape[0]):\n",
    "    s = f\"{test_data['Y'][i,0]} \"\n",
    "    x1 = test_data[name][i]\n",
    "    for j in range(test_data[name].shape[1]):\n",
    "        f = test_data[name][i,j]\n",
    "        if f != 0:\n",
    "            s += f\"{j}:{f} \"\n",
    "    s += \"\\n\"\n",
    "    _ = file.write(s)\n",
    "file.close()"
   ]
  },
  {
   "cell_type": "code",
   "execution_count": null,
   "metadata": {},
   "outputs": [],
   "source": [
    "# The following command is used to check whether the data is in the LIBSVM format\n",
    "!python3 '/Users/rohansambidi/Downloads/libsvm-3.3/tools/checkdata.py' '/Users/rohansambidi/Downloads/test_X3.txt'"
   ]
  },
  {
   "cell_type": "code",
   "execution_count": null,
   "metadata": {},
   "outputs": [],
   "source": []
  },
  {
   "cell_type": "code",
   "execution_count": 8,
   "metadata": {},
   "outputs": [],
   "source": [
    "y1_train, x1_train = svm_read_problem('/Users/rohansambidi/Downloads/train_X1.txt')\n",
    "y2_train, x2_train = svm_read_problem('/Users/rohansambidi/Downloads/train_X2.txt')\n",
    "y3_train, x3_train = svm_read_problem('/Users/rohansambidi/Downloads/train_X3.txt')\n",
    "\n",
    "# Here, y1_train, y2_train, and y3_train contain the same data since these are the sample labels."
   ]
  },
  {
   "cell_type": "code",
   "execution_count": 9,
   "metadata": {},
   "outputs": [],
   "source": [
    "y1_test, x1_test = svm_read_problem('/Users/rohansambidi/Downloads/test_X1.txt')\n",
    "y2_test, x2_test = svm_read_problem('/Users/rohansambidi/Downloads/test_X2.txt')\n",
    "y3_test, x3_test = svm_read_problem('/Users/rohansambidi/Downloads/test_X3.txt')\n",
    "\n",
    "# Here, y1_test, y2_test, and y3_test contain the same data since these are the sample labels."
   ]
  },
  {
   "cell_type": "code",
   "execution_count": null,
   "metadata": {},
   "outputs": [],
   "source": []
  },
  {
   "cell_type": "code",
   "execution_count": null,
   "metadata": {},
   "outputs": [],
   "source": [
    "# Step-0; \n",
    "# Part-1"
   ]
  },
  {
   "cell_type": "code",
   "execution_count": 10,
   "metadata": {},
   "outputs": [],
   "source": [
    "# Training models for Step-0; Part-1\n",
    "model1_0 = svm_train(y1_train, x1_train, '-c 10 -t 0 -q') # Model trained on the X1 feature\n",
    "model2_0 = svm_train(y2_train, x2_train, '-c 10 -t 0 -q') # Model trained on the X2 feature\n",
    "model3_0 = svm_train(y3_train, x3_train, '-c 10 -t 0 -q') # Model trained on the X3 feature"
   ]
  },
  {
   "cell_type": "code",
   "execution_count": 11,
   "metadata": {},
   "outputs": [
    {
     "name": "stdout",
     "output_type": "stream",
     "text": [
      "Accuracy = 10.7807% (203/1883) (classification)\n"
     ]
    }
   ],
   "source": [
    "# Testing the trained model: model1_0\n",
    "p_label_1_0, p_acc_1_0, p_val_1_0 = svm_predict(y1_test, x1_test, model1_0)"
   ]
  },
  {
   "cell_type": "code",
   "execution_count": 12,
   "metadata": {},
   "outputs": [
    {
     "name": "stdout",
     "output_type": "stream",
     "text": [
      "Accuracy = 16.6755% (314/1883) (classification)\n"
     ]
    }
   ],
   "source": [
    "# Testing the trained model: model2_0\n",
    "p_label_2_0, p_acc_2_0, p_val_2_0 = svm_predict(y2_test, x2_test, model2_0)"
   ]
  },
  {
   "cell_type": "code",
   "execution_count": 13,
   "metadata": {},
   "outputs": [
    {
     "name": "stdout",
     "output_type": "stream",
     "text": [
      "Accuracy = 8.92193% (168/1883) (classification)\n"
     ]
    }
   ],
   "source": [
    "# Testing the trained model: model3_0\n",
    "p_label_3_0, p_acc_3_0, p_val_3_0 = svm_predict(y3_test, x3_test, model3_0)"
   ]
  },
  {
   "cell_type": "code",
   "execution_count": null,
   "metadata": {},
   "outputs": [],
   "source": []
  },
  {
   "cell_type": "code",
   "execution_count": null,
   "metadata": {},
   "outputs": [],
   "source": [
    "# Part-2"
   ]
  },
  {
   "cell_type": "code",
   "execution_count": 14,
   "metadata": {},
   "outputs": [],
   "source": [
    "# Training models for Step-0; Part-2\n",
    "model1_1 = svm_train(y1_train, x1_train, '-c 10 -t 0 -b 1 -q') # Model trained on the X1 feature\n",
    "model2_1 = svm_train(y2_train, x2_train, '-c 10 -t 0 -b 1 -q') # Model trained on the X2 feature\n",
    "model3_1 = svm_train(y3_train, x3_train, '-c 10 -t 0 -b 1 -q') # Model trained on the X3 feature"
   ]
  },
  {
   "cell_type": "code",
   "execution_count": 16,
   "metadata": {},
   "outputs": [
    {
     "name": "stdout",
     "output_type": "stream",
     "text": [
      "Accuracy = 27.9341% (526/1883) (classification)\n"
     ]
    }
   ],
   "source": [
    "# Testing the trained model: model1_1\n",
    "p_label_1_1, p_acc_1_1, p_val_1_1 = svm_predict(y1_test, x1_test, model1_1, '-b 1')"
   ]
  },
  {
   "cell_type": "code",
   "execution_count": 18,
   "metadata": {},
   "outputs": [
    {
     "name": "stdout",
     "output_type": "stream",
     "text": [
      "Accuracy = 27.0844% (510/1883) (classification)\n"
     ]
    }
   ],
   "source": [
    "# Testing the trained model: model2_1\n",
    "p_label_2_1, p_acc_2_1, p_val_2_1 = svm_predict(y2_test, x2_test, model2_1, '-b 1')"
   ]
  },
  {
   "cell_type": "code",
   "execution_count": 19,
   "metadata": {},
   "outputs": [
    {
     "name": "stdout",
     "output_type": "stream",
     "text": [
      "Accuracy = 26.5003% (499/1883) (classification)\n"
     ]
    }
   ],
   "source": [
    "# Testing the trained model: model3_1\n",
    "p_label_3_1, p_acc_3_1, p_val_3_1 = svm_predict(y3_test, x3_test, model3_1, '-b 1')"
   ]
  },
  {
   "cell_type": "code",
   "execution_count": null,
   "metadata": {},
   "outputs": [],
   "source": []
  },
  {
   "cell_type": "code",
   "execution_count": null,
   "metadata": {},
   "outputs": [],
   "source": [
    "# Step-1:"
   ]
  },
  {
   "cell_type": "code",
   "execution_count": 101,
   "metadata": {},
   "outputs": [
    {
     "name": "stdout",
     "output_type": "stream",
     "text": [
      "Accuracy = 44.0255% (829/1883)\n"
     ]
    }
   ],
   "source": [
    "# Fuse the probability estimates using the formula provided\n",
    "prob_fus = (np.array(p_val_1_1) + np.array(p_val_2_1) + np.array(p_val_3_1))/3\n",
    "#prob_fus = np.add(np.array(p_val_1_1), np.array(p_val_2_1), np.array(p_val_3_1))/3\n",
    "\n",
    "# Obtain the labels corresponding to the maximum probabilities.\n",
    "# These will be the predicted features for the samples\n",
    "prob_fus_predictions = np.argmax(prob_fus, axis=1)+1\n",
    "\n",
    "\n",
    "# Compare the predicted leabels with the actual features ot get the accyracy\n",
    "correct = np.sum(np.equal(prob_fus_predictions, np.array(y2_test)))\n",
    "# (ACC, MSE, SCC) = evaluations(y1_test, prob_fus_predictions)\n",
    "# Accuracy can be caluculated using this utility function in LIBSVM library\n",
    "\n",
    "print(f\"Accuracy = {100*correct/len(y1_test):.4f}% ({correct}/{len(y1_test)})\")"
   ]
  },
  {
   "cell_type": "code",
   "execution_count": null,
   "metadata": {},
   "outputs": [],
   "source": []
  },
  {
   "cell_type": "code",
   "execution_count": null,
   "metadata": {},
   "outputs": [],
   "source": [
    "# Step-2"
   ]
  },
  {
   "cell_type": "code",
   "execution_count": 111,
   "metadata": {},
   "outputs": [],
   "source": [
    "# Concatenat the features in train and test set respectively\n",
    "concat_train = np.concatenate((train_data['X1'], train_data['X2'], train_data['X3']), axis=1)\n",
    "concat_test = np.concatenate((test_data['X1'], test_data['X2'], test_data['X3']), axis=1)"
   ]
  },
  {
   "cell_type": "code",
   "execution_count": 113,
   "metadata": {},
   "outputs": [
    {
     "data": {
      "text/plain": [
       "array([[0.00238095, 0.00059524, 0.00059524, ..., 0.        , 0.00109827, 0.00109827],\n",
       "       [0.0014881 , 0.00089286, 0.00029762, ..., 0.00110337, 0.        , 0.        ],\n",
       "       [0.0014881 , 0.00089286, 0.00089286, ..., 0.        , 0.        , 0.00385656],\n",
       "       ...,\n",
       "       [0.        , 0.        , 0.        , ..., 0.00818378, 0.00340991, 0.        ],\n",
       "       [0.        , 0.        , 0.        , ..., 0.        , 0.00331472, 0.        ],\n",
       "       [0.        , 0.        , 0.        , ..., 0.00182342, 0.        , 0.        ]])"
      ]
     },
     "execution_count": 113,
     "metadata": {},
     "output_type": "execute_result"
    },
    {
     "data": {
      "text/plain": [
       "array([[0.        , 0.00661654, 0.00300752, ..., 0.00049459, 0.        , 0.00148377],\n",
       "       [0.        , 0.00511278, 0.00330827, ..., 0.00118299, 0.        , 0.0005915 ],\n",
       "       [0.00150376, 0.        , 0.00360902, ..., 0.        , 0.        , 0.        ],\n",
       "       ...,\n",
       "       [0.        , 0.00030075, 0.        , ..., 0.00421515, 0.00210757, 0.        ],\n",
       "       [0.        , 0.        , 0.        , ..., 0.        , 0.002403  , 0.        ],\n",
       "       [0.        , 0.00030075, 0.        , ..., 0.00049005, 0.00098009, 0.00098009]])"
      ]
     },
     "execution_count": 113,
     "metadata": {},
     "output_type": "execute_result"
    }
   ],
   "source": [
    "concat_train\n",
    "concat_test"
   ]
  },
  {
   "cell_type": "code",
   "execution_count": 128,
   "metadata": {},
   "outputs": [],
   "source": [
    "# Convert the data into LIBVSM format\n",
    "\n",
    "file = open(\"concat_test_data.txt\", \"w\")\n",
    "\n",
    "for i in range(test_data['Y'].shape[0]):\n",
    "    s = f\"{test_data['Y'][i,0]} \"\n",
    "    for j in range(concat_test.shape[1]):\n",
    "        f = concat_test[i,j]\n",
    "        if f != 0:\n",
    "            s += f\"{j}:{f} \"\n",
    "    s += \"\\n\"\n",
    "    _ = file.write(s)\n",
    "file.close()"
   ]
  },
  {
   "cell_type": "code",
   "execution_count": 120,
   "metadata": {},
   "outputs": [],
   "source": [
    "# Read the data for step-2\n",
    "y_concat_train, x_concat_train = svm_read_problem('/Users/rohansambidi/Downloads/concat_train_data.txt')\n",
    "y_concat_test, x_concat_test = svm_read_problem('/Users/rohansambidi/Downloads/concat_test_data.txt')"
   ]
  },
  {
   "cell_type": "code",
   "execution_count": 127,
   "metadata": {},
   "outputs": [],
   "source": [
    "# Training models for Step-2\n",
    "model_step2 = svm_train(y_concat_train, x_concat_train, '-c 10 -t 0 -q')"
   ]
  },
  {
   "cell_type": "code",
   "execution_count": 131,
   "metadata": {},
   "outputs": [
    {
     "name": "stdout",
     "output_type": "stream",
     "text": [
      "Accuracy = 37.0685% (698/1883) (classification)\n"
     ]
    }
   ],
   "source": [
    "# Testing the trained model\n",
    "p_label_step2, p_acc_step2, p_val_step2 = svm_predict(y_concat_test, x_concat_test, model_step2)"
   ]
  },
  {
   "cell_type": "code",
   "execution_count": null,
   "metadata": {},
   "outputs": [],
   "source": []
  }
 ],
 "metadata": {
  "kernelspec": {
   "display_name": "Python 3",
   "language": "python",
   "name": "python3"
  },
  "language_info": {
   "codemirror_mode": {
    "name": "ipython",
    "version": 3
   },
   "file_extension": ".py",
   "mimetype": "text/x-python",
   "name": "python",
   "nbconvert_exporter": "python",
   "pygments_lexer": "ipython3",
   "version": "3.8.1"
  }
 },
 "nbformat": 4,
 "nbformat_minor": 4
}
